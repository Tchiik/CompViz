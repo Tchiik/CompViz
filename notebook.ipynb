{
  "cells": [
    {
      "cell_type": "code",
      "source": [
        "import os\r\n",
        "import sys\r\n",
        "import itertools\r\n",
        "import math\r\n",
        "import logging\r\n",
        "import json\r\n",
        "import re\r\n",
        "import random\r\n",
        "from collections import OrderedDict\r\n",
        "import numpy as np\r\n",
        "import matplotlib\r\n",
        "import matplotlib.pyplot as plt\r\n",
        "import matplotlib.patches as patches\r\n",
        "import matplotlib.lines as lines\r\n",
        "from matplotlib.patches import Polygon"
      ],
      "outputs": [],
      "execution_count": 3,
      "metadata": {
        "gather": {
          "logged": 1604936943290
        }
      }
    },
    {
      "cell_type": "code",
      "source": [
        "pip install -r requirements.txt"
      ],
      "outputs": [
        {
          "output_type": "stream",
          "name": "stdout",
          "text": [
            "Requirement already satisfied: numpy in /anaconda/envs/azureml_py36/lib/python3.6/site-packages (from -r requirements.txt (line 1)) (1.18.5)\n",
            "Requirement already satisfied: scipy in /anaconda/envs/azureml_py36/lib/python3.6/site-packages (from -r requirements.txt (line 2)) (1.5.2)\n",
            "Requirement already satisfied: Pillow in /anaconda/envs/azureml_py36/lib/python3.6/site-packages (from -r requirements.txt (line 3)) (6.2.1)\n",
            "Requirement already satisfied: cython in /anaconda/envs/azureml_py36/lib/python3.6/site-packages (from -r requirements.txt (line 4)) (0.29.21)\n",
            "Requirement already satisfied: matplotlib in /anaconda/envs/azureml_py36/lib/python3.6/site-packages (from -r requirements.txt (line 5)) (3.2.1)\n",
            "Requirement already satisfied: scikit-image in /anaconda/envs/azureml_py36/lib/python3.6/site-packages (from -r requirements.txt (line 6)) (0.17.2)\n",
            "Collecting tensorflow==1.3.0\n",
            "  Downloading tensorflow-1.3.0-cp36-cp36m-manylinux1_x86_64.whl (43.5 MB)\n",
            "\u001b[K     |████████████████████████████████| 43.5 MB 126 kB/s eta 0:00:01\n",
            "\u001b[?25hCollecting keras==2.0.8\n",
            "  Downloading Keras-2.0.8-py2.py3-none-any.whl (276 kB)\n",
            "\u001b[K     |████████████████████████████████| 276 kB 43.0 MB/s eta 0:00:01\n",
            "\u001b[?25hRequirement already satisfied: opencv-python in /anaconda/envs/azureml_py36/lib/python3.6/site-packages (from -r requirements.txt (line 9)) (4.4.0.44)\n",
            "Requirement already satisfied: h5py in /anaconda/envs/azureml_py36/lib/python3.6/site-packages (from -r requirements.txt (line 10)) (3.0.0)\n",
            "Requirement already satisfied: imgaug in /anaconda/envs/azureml_py36/lib/python3.6/site-packages (from -r requirements.txt (line 11)) (0.4.0)\n",
            "Requirement already satisfied: IPython[all] in /anaconda/envs/azureml_py36/lib/python3.6/site-packages (from -r requirements.txt (line 12)) (7.16.1)\n",
            "Requirement already satisfied: python-dateutil>=2.1 in /anaconda/envs/azureml_py36/lib/python3.6/site-packages (from matplotlib->-r requirements.txt (line 5)) (2.8.1)\n",
            "Requirement already satisfied: pyparsing!=2.0.4,!=2.1.2,!=2.1.6,>=2.0.1 in /anaconda/envs/azureml_py36/lib/python3.6/site-packages (from matplotlib->-r requirements.txt (line 5)) (2.4.7)\n",
            "Requirement already satisfied: cycler>=0.10 in /anaconda/envs/azureml_py36/lib/python3.6/site-packages (from matplotlib->-r requirements.txt (line 5)) (0.10.0)\n",
            "Requirement already satisfied: kiwisolver>=1.0.1 in /anaconda/envs/azureml_py36/lib/python3.6/site-packages (from matplotlib->-r requirements.txt (line 5)) (1.3.0)\n",
            "Requirement already satisfied: networkx>=2.0 in /anaconda/envs/azureml_py36/lib/python3.6/site-packages (from scikit-image->-r requirements.txt (line 6)) (2.5)\n",
            "Requirement already satisfied: tifffile>=2019.7.26 in /anaconda/envs/azureml_py36/lib/python3.6/site-packages (from scikit-image->-r requirements.txt (line 6)) (2020.9.3)\n",
            "Requirement already satisfied: PyWavelets>=1.1.1 in /anaconda/envs/azureml_py36/lib/python3.6/site-packages (from scikit-image->-r requirements.txt (line 6)) (1.1.1)\n",
            "Requirement already satisfied: imageio>=2.3.0 in /anaconda/envs/azureml_py36/lib/python3.6/site-packages (from scikit-image->-r requirements.txt (line 6)) (2.9.0)\n",
            "Collecting tensorflow-tensorboard<0.2.0,>=0.1.0\n",
            "  Downloading tensorflow_tensorboard-0.1.8-py3-none-any.whl (1.6 MB)\n",
            "\u001b[K     |████████████████████████████████| 1.6 MB 40.5 MB/s eta 0:00:01\n",
            "\u001b[?25hRequirement already satisfied: protobuf>=3.3.0 in /anaconda/envs/azureml_py36/lib/python3.6/site-packages (from tensorflow==1.3.0->-r requirements.txt (line 7)) (3.13.0)\n",
            "Requirement already satisfied: wheel>=0.26 in /anaconda/envs/azureml_py36/lib/python3.6/site-packages (from tensorflow==1.3.0->-r requirements.txt (line 7)) (0.35.1)\n",
            "Requirement already satisfied: six>=1.10.0 in /anaconda/envs/azureml_py36/lib/python3.6/site-packages (from tensorflow==1.3.0->-r requirements.txt (line 7)) (1.15.0)\n",
            "Requirement already satisfied: pyyaml in /anaconda/envs/azureml_py36/lib/python3.6/site-packages (from keras==2.0.8->-r requirements.txt (line 8)) (5.3.1)\n",
            "Requirement already satisfied: cached-property in /anaconda/envs/azureml_py36/lib/python3.6/site-packages (from h5py->-r requirements.txt (line 10)) (1.5.2)\n",
            "Requirement already satisfied: Shapely in /anaconda/envs/azureml_py36/lib/python3.6/site-packages (from imgaug->-r requirements.txt (line 11)) (1.7.1)\n",
            "Requirement already satisfied: pexpect; sys_platform != \"win32\" in /anaconda/envs/azureml_py36/lib/python3.6/site-packages (from IPython[all]->-r requirements.txt (line 12)) (4.8.0)\n",
            "Requirement already satisfied: setuptools>=18.5 in /anaconda/envs/azureml_py36/lib/python3.6/site-packages (from IPython[all]->-r requirements.txt (line 12)) (50.3.0.post20201006)\n",
            "Requirement already satisfied: traitlets>=4.2 in /anaconda/envs/azureml_py36/lib/python3.6/site-packages (from IPython[all]->-r requirements.txt (line 12)) (4.3.3)\n",
            "Requirement already satisfied: jedi>=0.10 in /anaconda/envs/azureml_py36/lib/python3.6/site-packages (from IPython[all]->-r requirements.txt (line 12)) (0.17.2)\n",
            "Requirement already satisfied: pickleshare in /anaconda/envs/azureml_py36/lib/python3.6/site-packages (from IPython[all]->-r requirements.txt (line 12)) (0.7.5)\n",
            "Requirement already satisfied: backcall in /anaconda/envs/azureml_py36/lib/python3.6/site-packages (from IPython[all]->-r requirements.txt (line 12)) (0.2.0)\n",
            "Requirement already satisfied: pygments in /anaconda/envs/azureml_py36/lib/python3.6/site-packages (from IPython[all]->-r requirements.txt (line 12)) (2.7.2)\n",
            "Requirement already satisfied: decorator in /anaconda/envs/azureml_py36/lib/python3.6/site-packages (from IPython[all]->-r requirements.txt (line 12)) (4.4.2)\n",
            "Requirement already satisfied: prompt-toolkit!=3.0.0,!=3.0.1,<3.1.0,>=2.0.0 in /anaconda/envs/azureml_py36/lib/python3.6/site-packages (from IPython[all]->-r requirements.txt (line 12)) (3.0.5)\n",
            "Collecting ipyparallel; extra == \"all\"\n",
            "  Downloading ipyparallel-6.3.0-py3-none-any.whl (199 kB)\n",
            "\u001b[K     |████████████████████████████████| 199 kB 43.0 MB/s eta 0:00:01\n",
            "\u001b[?25hRequirement already satisfied: qtconsole; extra == \"all\" in /anaconda/envs/azureml_py36/lib/python3.6/site-packages (from IPython[all]->-r requirements.txt (line 12)) (4.7.7)\n",
            "Requirement already satisfied: ipywidgets; extra == \"all\" in /anaconda/envs/azureml_py36/lib/python3.6/site-packages (from IPython[all]->-r requirements.txt (line 12)) (7.5.1)\n",
            "Collecting nose>=0.10.1; extra == \"all\"\n",
            "  Downloading nose-1.3.7-py3-none-any.whl (154 kB)\n",
            "\u001b[K     |████████████████████████████████| 154 kB 48.0 MB/s eta 0:00:01\n",
            "\u001b[?25hRequirement already satisfied: ipykernel; extra == \"all\" in /anaconda/envs/azureml_py36/lib/python3.6/site-packages (from IPython[all]->-r requirements.txt (line 12)) (5.3.4)\n",
            "Requirement already satisfied: nbconvert; extra == \"all\" in /anaconda/envs/azureml_py36/lib/python3.6/site-packages (from IPython[all]->-r requirements.txt (line 12)) (6.0.7)\n",
            "Requirement already satisfied: nbformat; extra == \"all\" in /anaconda/envs/azureml_py36/lib/python3.6/site-packages (from IPython[all]->-r requirements.txt (line 12)) (5.0.8)\n",
            "Requirement already satisfied: notebook; extra == \"all\" in /anaconda/envs/azureml_py36/lib/python3.6/site-packages (from IPython[all]->-r requirements.txt (line 12)) (6.1.4)\n",
            "Requirement already satisfied: testpath; extra == \"all\" in /anaconda/envs/azureml_py36/lib/python3.6/site-packages (from IPython[all]->-r requirements.txt (line 12)) (0.4.4)\n",
            "Requirement already satisfied: requests; extra == \"all\" in /anaconda/envs/azureml_py36/lib/python3.6/site-packages (from IPython[all]->-r requirements.txt (line 12)) (2.24.0)\n",
            "Collecting Sphinx>=1.3; extra == \"all\"\n",
            "  Downloading Sphinx-3.3.0-py3-none-any.whl (2.9 MB)\n",
            "\u001b[K     |████████████████████████████████| 2.9 MB 37.0 MB/s eta 0:00:01\n",
            "\u001b[?25hRequirement already satisfied: werkzeug>=0.11.10 in /anaconda/envs/azureml_py36/lib/python3.6/site-packages (from tensorflow-tensorboard<0.2.0,>=0.1.0->tensorflow==1.3.0->-r requirements.txt (line 7)) (1.0.1)\n",
            "Collecting html5lib==0.9999999\n",
            "  Downloading html5lib-0.9999999.tar.gz (889 kB)\n",
            "\u001b[K     |████████████████████████████████| 889 kB 41.2 MB/s eta 0:00:01\n",
            "\u001b[?25hCollecting bleach==1.5.0\n",
            "  Downloading bleach-1.5.0-py2.py3-none-any.whl (17 kB)\n",
            "Requirement already satisfied: markdown>=2.6.8 in /anaconda/envs/azureml_py36/lib/python3.6/site-packages (from tensorflow-tensorboard<0.2.0,>=0.1.0->tensorflow==1.3.0->-r requirements.txt (line 7)) (3.3.3)\n",
            "Requirement already satisfied: ptyprocess>=0.5 in /anaconda/envs/azureml_py36/lib/python3.6/site-packages (from pexpect; sys_platform != \"win32\"->IPython[all]->-r requirements.txt (line 12)) (0.6.0)\n",
            "Requirement already satisfied: ipython-genutils in /anaconda/envs/azureml_py36/lib/python3.6/site-packages (from traitlets>=4.2->IPython[all]->-r requirements.txt (line 12)) (0.2.0)\n",
            "Requirement already satisfied: parso<0.8.0,>=0.7.0 in /anaconda/envs/azureml_py36/lib/python3.6/site-packages (from jedi>=0.10->IPython[all]->-r requirements.txt (line 12)) (0.7.1)\n",
            "Requirement already satisfied: wcwidth in /anaconda/envs/azureml_py36/lib/python3.6/site-packages (from prompt-toolkit!=3.0.0,!=3.0.1,<3.1.0,>=2.0.0->IPython[all]->-r requirements.txt (line 12)) (0.2.5)\n",
            "Requirement already satisfied: tornado>=4 in /anaconda/envs/azureml_py36/lib/python3.6/site-packages (from ipyparallel; extra == \"all\"->IPython[all]->-r requirements.txt (line 12)) (6.0.4)\n",
            "Requirement already satisfied: jupyter-client in /anaconda/envs/azureml_py36/lib/python3.6/site-packages (from ipyparallel; extra == \"all\"->IPython[all]->-r requirements.txt (line 12)) (6.1.7)\n",
            "Requirement already satisfied: pyzmq>=13 in /anaconda/envs/azureml_py36/lib/python3.6/site-packages (from ipyparallel; extra == \"all\"->IPython[all]->-r requirements.txt (line 12)) (19.0.2)\n",
            "Requirement already satisfied: qtpy in /anaconda/envs/azureml_py36/lib/python3.6/site-packages (from qtconsole; extra == \"all\"->IPython[all]->-r requirements.txt (line 12)) (1.9.0)\n",
            "Requirement already satisfied: jupyter-core in /anaconda/envs/azureml_py36/lib/python3.6/site-packages (from qtconsole; extra == \"all\"->IPython[all]->-r requirements.txt (line 12)) (4.6.3)\n",
            "Requirement already satisfied: widgetsnbextension~=3.5.0 in /anaconda/envs/azureml_py36/lib/python3.6/site-packages (from ipywidgets; extra == \"all\"->IPython[all]->-r requirements.txt (line 12)) (3.5.1)\n",
            "Requirement already satisfied: entrypoints>=0.2.2 in /anaconda/envs/azureml_py36/lib/python3.6/site-packages (from nbconvert; extra == \"all\"->IPython[all]->-r requirements.txt (line 12)) (0.3)\n",
            "Requirement already satisfied: jupyterlab-pygments in /anaconda/envs/azureml_py36/lib/python3.6/site-packages (from nbconvert; extra == \"all\"->IPython[all]->-r requirements.txt (line 12)) (0.1.2)\n",
            "Requirement already satisfied: nbclient<0.6.0,>=0.5.0 in /anaconda/envs/azureml_py36/lib/python3.6/site-packages (from nbconvert; extra == \"all\"->IPython[all]->-r requirements.txt (line 12)) (0.5.1)\n",
            "Requirement already satisfied: mistune<2,>=0.8.1 in /anaconda/envs/azureml_py36/lib/python3.6/site-packages (from nbconvert; extra == \"all\"->IPython[all]->-r requirements.txt (line 12)) (0.8.4)\n",
            "Requirement already satisfied: jinja2>=2.4 in /anaconda/envs/azureml_py36/lib/python3.6/site-packages (from nbconvert; extra == \"all\"->IPython[all]->-r requirements.txt (line 12)) (2.11.2)\n",
            "Requirement already satisfied: defusedxml in /anaconda/envs/azureml_py36/lib/python3.6/site-packages (from nbconvert; extra == \"all\"->IPython[all]->-r requirements.txt (line 12)) (0.6.0)\n",
            "Requirement already satisfied: pandocfilters>=1.4.1 in /anaconda/envs/azureml_py36/lib/python3.6/site-packages (from nbconvert; extra == \"all\"->IPython[all]->-r requirements.txt (line 12)) (1.4.3)\n",
            "Requirement already satisfied: jsonschema!=2.5.0,>=2.4 in /anaconda/envs/azureml_py36/lib/python3.6/site-packages (from nbformat; extra == \"all\"->IPython[all]->-r requirements.txt (line 12)) (3.2.0)\n",
            "Requirement already satisfied: terminado>=0.8.3 in /anaconda/envs/azureml_py36/lib/python3.6/site-packages (from notebook; extra == \"all\"->IPython[all]->-r requirements.txt (line 12)) (0.9.1)\n",
            "Requirement already satisfied: prometheus-client in /anaconda/envs/azureml_py36/lib/python3.6/site-packages (from notebook; extra == \"all\"->IPython[all]->-r requirements.txt (line 12)) (0.8.0)\n",
            "Requirement already satisfied: argon2-cffi in /anaconda/envs/azureml_py36/lib/python3.6/site-packages (from notebook; extra == \"all\"->IPython[all]->-r requirements.txt (line 12)) (20.1.0)\n",
            "Requirement already satisfied: Send2Trash in /anaconda/envs/azureml_py36/lib/python3.6/site-packages (from notebook; extra == \"all\"->IPython[all]->-r requirements.txt (line 12)) (1.5.0)\n",
            "Requirement already satisfied: idna<3,>=2.5 in /anaconda/envs/azureml_py36/lib/python3.6/site-packages (from requests; extra == \"all\"->IPython[all]->-r requirements.txt (line 12)) (2.10)\n",
            "Requirement already satisfied: urllib3!=1.25.0,!=1.25.1,<1.26,>=1.21.1 in /anaconda/envs/azureml_py36/lib/python3.6/site-packages (from requests; extra == \"all\"->IPython[all]->-r requirements.txt (line 12)) (1.25.11)\n",
            "Requirement already satisfied: chardet<4,>=3.0.2 in /anaconda/envs/azureml_py36/lib/python3.6/site-packages (from requests; extra == \"all\"->IPython[all]->-r requirements.txt (line 12)) (3.0.4)\n",
            "Requirement already satisfied: certifi>=2017.4.17 in /anaconda/envs/azureml_py36/lib/python3.6/site-packages (from requests; extra == \"all\"->IPython[all]->-r requirements.txt (line 12)) (2020.6.20)\n",
            "Collecting alabaster<0.8,>=0.7\n",
            "  Downloading alabaster-0.7.12-py2.py3-none-any.whl (14 kB)\n",
            "Collecting sphinxcontrib-devhelp\n",
            "  Downloading sphinxcontrib_devhelp-1.0.2-py2.py3-none-any.whl (84 kB)\n",
            "\u001b[K     |████████████████████████████████| 84 kB 175 kB/s  eta 0:00:01\n",
            "\u001b[?25hCollecting sphinxcontrib-applehelp\n",
            "  Downloading sphinxcontrib_applehelp-1.0.2-py2.py3-none-any.whl (121 kB)\n",
            "\u001b[K     |████████████████████████████████| 121 kB 42.6 MB/s eta 0:00:01\n",
            "\u001b[?25hRequirement already satisfied: snowballstemmer>=1.1 in /anaconda/envs/azureml_py36/lib/python3.6/site-packages (from Sphinx>=1.3; extra == \"all\"->IPython[all]->-r requirements.txt (line 12)) (2.0.0)\n",
            "Collecting sphinxcontrib-jsmath\n",
            "  Downloading sphinxcontrib_jsmath-1.0.1-py2.py3-none-any.whl (5.1 kB)\n",
            "Collecting sphinxcontrib-qthelp\n",
            "  Downloading sphinxcontrib_qthelp-1.0.3-py2.py3-none-any.whl (90 kB)\n",
            "\u001b[K     |████████████████████████████████| 90 kB 2.4 MB/s  eta 0:00:01\n",
            "\u001b[?25hCollecting sphinxcontrib-serializinghtml\n",
            "  Downloading sphinxcontrib_serializinghtml-1.1.4-py2.py3-none-any.whl (89 kB)\n",
            "\u001b[K     |████████████████████████████████| 89 kB 2.3 MB/s  eta 0:00:01\n",
            "\u001b[?25hCollecting babel>=1.3\n",
            "  Downloading Babel-2.8.0-py2.py3-none-any.whl (8.6 MB)\n",
            "\u001b[K     |████████████████████████████████| 8.6 MB 40.3 MB/s eta 0:00:01\n",
            "\u001b[?25hCollecting docutils>=0.12\n",
            "  Downloading docutils-0.16-py2.py3-none-any.whl (548 kB)\n",
            "\u001b[K     |████████████████████████████████| 548 kB 39.3 MB/s eta 0:00:01\n",
            "\u001b[?25hRequirement already satisfied: packaging in /anaconda/envs/azureml_py36/lib/python3.6/site-packages (from Sphinx>=1.3; extra == \"all\"->IPython[all]->-r requirements.txt (line 12)) (20.4)\n",
            "Collecting imagesize\n",
            "  Downloading imagesize-1.2.0-py2.py3-none-any.whl (4.8 kB)\n",
            "Collecting sphinxcontrib-htmlhelp\n",
            "  Downloading sphinxcontrib_htmlhelp-1.0.3-py2.py3-none-any.whl (96 kB)\n",
            "\u001b[K     |████████████████████████████████| 96 kB 295 kB/s  eta 0:00:01\n",
            "\u001b[?25hRequirement already satisfied: importlib-metadata; python_version < \"3.8\" in /anaconda/envs/azureml_py36/lib/python3.6/site-packages (from markdown>=2.6.8->tensorflow-tensorboard<0.2.0,>=0.1.0->tensorflow==1.3.0->-r requirements.txt (line 7)) (2.0.0)\n",
            "Requirement already satisfied: nest-asyncio in /anaconda/envs/azureml_py36/lib/python3.6/site-packages (from nbclient<0.6.0,>=0.5.0->nbconvert; extra == \"all\"->IPython[all]->-r requirements.txt (line 12)) (1.4.1)\n",
            "Requirement already satisfied: async-generator in /anaconda/envs/azureml_py36/lib/python3.6/site-packages (from nbclient<0.6.0,>=0.5.0->nbconvert; extra == \"all\"->IPython[all]->-r requirements.txt (line 12)) (1.10)\n",
            "Requirement already satisfied: MarkupSafe>=0.23 in /anaconda/envs/azureml_py36/lib/python3.6/site-packages (from jinja2>=2.4->nbconvert; extra == \"all\"->IPython[all]->-r requirements.txt (line 12)) (1.1.1)\n",
            "Requirement already satisfied: attrs>=17.4.0 in /anaconda/envs/azureml_py36/lib/python3.6/site-packages (from jsonschema!=2.5.0,>=2.4->nbformat; extra == \"all\"->IPython[all]->-r requirements.txt (line 12)) (20.2.0)\n",
            "Requirement already satisfied: pyrsistent>=0.14.0 in /anaconda/envs/azureml_py36/lib/python3.6/site-packages (from jsonschema!=2.5.0,>=2.4->nbformat; extra == \"all\"->IPython[all]->-r requirements.txt (line 12)) (0.17.3)\n",
            "Requirement already satisfied: cffi>=1.0.0 in /anaconda/envs/azureml_py36/lib/python3.6/site-packages (from argon2-cffi->notebook; extra == \"all\"->IPython[all]->-r requirements.txt (line 12)) (1.14.3)\n",
            "Requirement already satisfied: pytz>=2015.7 in /anaconda/envs/azureml_py36/lib/python3.6/site-packages (from babel>=1.3->Sphinx>=1.3; extra == \"all\"->IPython[all]->-r requirements.txt (line 12)) (2020.1)\n",
            "Requirement already satisfied: zipp>=0.5 in /anaconda/envs/azureml_py36/lib/python3.6/site-packages (from importlib-metadata; python_version < \"3.8\"->markdown>=2.6.8->tensorflow-tensorboard<0.2.0,>=0.1.0->tensorflow==1.3.0->-r requirements.txt (line 7)) (3.4.0)\n",
            "Requirement already satisfied: pycparser in /anaconda/envs/azureml_py36/lib/python3.6/site-packages (from cffi>=1.0.0->argon2-cffi->notebook; extra == \"all\"->IPython[all]->-r requirements.txt (line 12)) (2.20)\n",
            "Building wheels for collected packages: html5lib\n",
            "  Building wheel for html5lib (setup.py) ... \u001b[?25l-\b \b\\\b \b|\b \bdone\n",
            "\u001b[?25h  Created wheel for html5lib: filename=html5lib-0.9999999-py3-none-any.whl size=107219 sha256=6dd8657e03ec9a75db6e51efa0bc9fa22ef42de99483cdc6ae8c5a238b1b271c\n",
            "  Stored in directory: /home/azureuser/.cache/pip/wheels/90/1c/cb/a87fd097ff74648ecc468a703001f6c7c86d8a71d459e65c98\n",
            "Successfully built html5lib\n",
            "\u001b[31mERROR: azureml-contrib-notebook 1.17.0 has requirement nbconvert<6, but you'll have nbconvert 6.0.7 which is incompatible.\u001b[0m\n",
            "Installing collected packages: html5lib, bleach, tensorflow-tensorboard, tensorflow, keras, ipyparallel, nose, alabaster, sphinxcontrib-devhelp, sphinxcontrib-applehelp, sphinxcontrib-jsmath, sphinxcontrib-qthelp, sphinxcontrib-serializinghtml, babel, docutils, imagesize, sphinxcontrib-htmlhelp, Sphinx\n",
            "  Attempting uninstall: bleach\n",
            "    Found existing installation: bleach 3.2.1\n",
            "    Uninstalling bleach-3.2.1:\n",
            "      Successfully uninstalled bleach-3.2.1\n",
            "  Attempting uninstall: tensorflow\n",
            "    Found existing installation: tensorflow 2.1.0\n",
            "    Uninstalling tensorflow-2.1.0:\n",
            "      Successfully uninstalled tensorflow-2.1.0\n",
            "  Attempting uninstall: keras\n",
            "    Found existing installation: Keras 2.3.1\n",
            "    Uninstalling Keras-2.3.1:\n",
            "      Successfully uninstalled Keras-2.3.1\n",
            "Successfully installed Sphinx-3.3.0 alabaster-0.7.12 babel-2.8.0 bleach-1.5.0 docutils-0.16 html5lib-0.9999999 imagesize-1.2.0 ipyparallel-6.3.0 keras-2.0.8 nose-1.3.7 sphinxcontrib-applehelp-1.0.2 sphinxcontrib-devhelp-1.0.2 sphinxcontrib-htmlhelp-1.0.3 sphinxcontrib-jsmath-1.0.1 sphinxcontrib-qthelp-1.0.3 sphinxcontrib-serializinghtml-1.1.4 tensorflow-1.3.0 tensorflow-tensorboard-0.1.8\n",
            "Note: you may need to restart the kernel to use updated packages.\n"
          ]
        }
      ],
      "execution_count": 7,
      "metadata": {
        "collapsed": true,
        "jupyter": {
          "source_hidden": false,
          "outputs_hidden": false
        },
        "nteract": {
          "transient": {
            "deleting": false
          }
        },
        "gather": {
          "logged": 1604937018859
        }
      }
    },
    {
      "cell_type": "code",
      "source": [
        "from mrcnn import utils\r\n",
        "from mrcnn import visualize\r\n",
        "from mrcnn.visualize import display_images\r\n",
        "from mrcnn import model\r\n",
        "import mrcnn.model as modellib\r\n",
        "from mrcnn.model import log\r\n",
        "import cv2\r\n",
        "import custom,custom_1\r\n",
        "import imgaug,h5py,IPython"
      ],
      "outputs": [],
      "execution_count": 5,
      "metadata": {
        "collapsed": true,
        "jupyter": {
          "source_hidden": false,
          "outputs_hidden": false
        },
        "nteract": {
          "transient": {
            "deleting": false
          }
        },
        "gather": {
          "logged": 1604936948917
        }
      }
    },
    {
      "cell_type": "code",
      "source": [],
      "outputs": [],
      "execution_count": null,
      "metadata": {
        "collapsed": true,
        "jupyter": {
          "source_hidden": false,
          "outputs_hidden": false
        },
        "nteract": {
          "transient": {
            "deleting": false
          }
        }
      }
    }
  ],
  "metadata": {
    "kernelspec": {
      "name": "python3-azureml",
      "language": "python",
      "display_name": "Python 3.6 - AzureML"
    },
    "language_info": {
      "name": "python",
      "version": "3.6.9",
      "mimetype": "text/x-python",
      "codemirror_mode": {
        "name": "ipython",
        "version": 3
      },
      "pygments_lexer": "ipython3",
      "nbconvert_exporter": "python",
      "file_extension": ".py"
    },
    "kernel_info": {
      "name": "python3-azureml"
    },
    "nteract": {
      "version": "nteract-front-end@1.0.0"
    }
  },
  "nbformat": 4,
  "nbformat_minor": 2
}